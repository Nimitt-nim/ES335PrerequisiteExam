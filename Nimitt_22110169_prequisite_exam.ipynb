{
 "cells": [
  {
   "cell_type": "code",
   "execution_count": 1,
   "metadata": {},
   "outputs": [],
   "source": [
    "# Importing required libraries \n",
    "import numpy as np\n",
    "import math\n",
    "import jax\n",
    "import sympy\n",
    "from sympy.vector import gradient, CoordSys3D\n",
    "import pprint\n",
    "import pandas as pd\n",
    "import matplotlib.pyplot as plt"
   ]
  },
  {
   "attachments": {},
   "cell_type": "markdown",
   "metadata": {},
   "source": [
    "Question 1 :\n",
    "How many multiplications and additions do you need to perform a matrix multiplication between a (n, k) and (k, m) matrix? Explain.\n"
   ]
  },
  {
   "attachments": {},
   "cell_type": "markdown",
   "metadata": {},
   "source": [
    "Answer : \\\n",
    "The ouput matrix as result of multiplication has dimension n*m . Now, to compute each element of this output matrix we need to compote Dot product between corresponding vectors of length k . This requires k multiplications and k - 1 additions for each element of output matrix . Thus, \\\n",
    "\\\n",
    "Total Number of multiplications needed, $$ = nkm$$ \\\n",
    "Total Number of Additions needed, $$ = n(k-1)m$$\n"
   ]
  },
  {
   "attachments": {},
   "cell_type": "markdown",
   "metadata": {},
   "source": [
    "Question 2 :\n",
    "Write Python code to multiply the above two matrices. Solve using list of lists and then use numpy. Compare the timing of both solutions. Which one is faster? Why?"
   ]
  },
  {
   "attachments": {},
   "cell_type": "markdown",
   "metadata": {},
   "source": [
    "Answer :\\\n",
    "\\\n",
    "First, we define functions to perform multiplication using list of lists and numpy. We create matrices having random elements and dimensions (n,k) and (k,m), where n,k and m are taken randomly from 3 to 10. "
   ]
  },
  {
   "cell_type": "code",
   "execution_count": 2,
   "metadata": {},
   "outputs": [],
   "source": [
    "# Creating the matrices\n",
    "n = np.random.randint(3,10)\n",
    "k = np.random.randint(3,10)\n",
    "m = np.random.randint(3,10)\n",
    "\n",
    "\n",
    "mat1 = np.random.randn(n,k)\n",
    "mat2 = np.random.randn(k,m)\n",
    "\n",
    "# Using list of lists \n",
    "def matrix_mult_listoflists(mat1, mat2):\n",
    "    n = len(mat1)\n",
    "    m = len(mat2[0])\n",
    "    k = len(mat2)\n",
    "    output_mat = np.zeros((n, m))\n",
    "    \n",
    "    for i in range(n):\n",
    "        for j in range(m):\n",
    "            elem = 0\n",
    "            for l in range(k):\n",
    "                elem += mat1[i][l] * mat2[l][j]\n",
    "            output_mat[i][j] = elem\n",
    "    \n",
    "    return output_mat\n",
    "\n",
    "# Using Numpy\n",
    "def matrix_mult_numpy(mat1,mat2):\n",
    "    output_mat = np.matmul(mat1,mat2)\n",
    "    return output_mat"
   ]
  },
  {
   "attachments": {},
   "cell_type": "markdown",
   "metadata": {},
   "source": [
    "Now, we compare both in the following cells :"
   ]
  },
  {
   "cell_type": "code",
   "execution_count": 3,
   "metadata": {},
   "outputs": [
    {
     "name": "stdout",
     "output_type": "stream",
     "text": [
      "75.6 µs ± 1 µs per loop (mean ± std. dev. of 7 runs, 10,000 loops each)\n"
     ]
    }
   ],
   "source": [
    "%%timeit\n",
    "# List of Lists\n",
    "matrix_mult_listoflists(mat1, mat2)"
   ]
  },
  {
   "cell_type": "code",
   "execution_count": 4,
   "metadata": {},
   "outputs": [
    {
     "name": "stdout",
     "output_type": "stream",
     "text": [
      "706 ns ± 0.573 ns per loop (mean ± std. dev. of 7 runs, 1,000,000 loops each)\n"
     ]
    }
   ],
   "source": [
    "%%timeit\n",
    "# Numpy\n",
    "matrix_mult_numpy(mat1, mat2)"
   ]
  },
  {
   "attachments": {},
   "cell_type": "markdown",
   "metadata": {},
   "source": [
    "We can clearly see, the numpy multiplication is relatively faster. This is because matrix multiplication is highly optimized in Numpy. Numpy multiplication has been written in C which make it faster then the python lists of lists approach, it uses the BLAS which leveraege the hardware features of the computer for faster computation. Numpy breaks the problem into subproblems and computes them parallaly, thus working on the matrices all together. These resons make numpy multiplication quite fast."
   ]
  },
  {
   "attachments": {},
   "cell_type": "markdown",
   "metadata": {},
   "source": [
    "Question 3 :\n",
    "Finding the highest element in a list requires one pass of the array. Finding the second highest element requires 2 passes of the the array. Using this method, what is the time complexity of finding the median of the array? Can you suggest a better method? Can you implement both these methods in Python and compare against numpy.median routine in terms of time?"
   ]
  },
  {
   "attachments": {},
   "cell_type": "markdown",
   "metadata": {},
   "source": [
    "Answer :\\\n",
    "\\\n",
    "Median is middleth element in the sorted version of the given array. The approach given (call it naive) in the question requires rougly n/2 passes because we want the n/2 th largest element. Now, first pass requires to visit n elements, then next n - 1 and so on, this is theta(n) elements. So, this naive approach has complexity of O(n^2).\\\n",
    "Yes, we can suggest a better method for this (call it better). First, we sort the array which has the complexity of O(nlogn) and then we know the midleth element or the average of middleth elements is the median.\n",
    "We implement all these methods and then compare below."
   ]
  },
  {
   "cell_type": "code",
   "execution_count": 5,
   "metadata": {},
   "outputs": [],
   "source": [
    "nparray = np.random.randint(0,100, size = 101)\n",
    "array = list(nparray)\n",
    "\n",
    "\n",
    "# Naive approach\n",
    "def median_naive(arr):\n",
    "    arr2 = arr.copy()\n",
    "    if (len(arr)%2 == 0):\n",
    "        m = len(arr)//2 \n",
    "    else :\n",
    "        m = len(arr)//2 + 1\n",
    "    for i in range(m):\n",
    "        median1 = arr2[0]\n",
    "        ind = 0\n",
    "        for j in range(len(arr2)):\n",
    "            if arr2[j] > median1:\n",
    "                median1 = arr2[j]\n",
    "                ind = j\n",
    "        arr2.pop(ind)\n",
    "\n",
    "    median2 = arr2[0]\n",
    "    for j in range(len(arr2)):\n",
    "            if arr2[j] > arr[median2]:\n",
    "                median2 = arr2[j]\n",
    "\n",
    "    if (len(arr)%2 == 0):\n",
    "        return (median1+median2)/2\n",
    "    else :\n",
    "        return median1\n",
    "\n",
    "# Better Approach\n",
    "def median_better(arr):\n",
    "    arr_sorted = sorted(arr)\n",
    "    n = len(arr)\n",
    "    if (len(arr)%2 == 0):\n",
    "        return (arr_sorted[n//2] + arr_sorted[n//2 - 1])/2\n",
    "    else :\n",
    "        return (arr_sorted[n//2])\n",
    "\n",
    "# Numpy approach\n",
    "def median_numpy(arr):\n",
    "    return np.median(arr)"
   ]
  },
  {
   "attachments": {},
   "cell_type": "markdown",
   "metadata": {},
   "source": [
    "Comparing,"
   ]
  },
  {
   "cell_type": "code",
   "execution_count": 6,
   "metadata": {},
   "outputs": [
    {
     "name": "stdout",
     "output_type": "stream",
     "text": [
      "83.8 µs ± 788 ns per loop (mean ± std. dev. of 7 runs, 10,000 loops each)\n"
     ]
    }
   ],
   "source": [
    "%%timeit\n",
    "m1 = median_naive(array)"
   ]
  },
  {
   "cell_type": "code",
   "execution_count": 7,
   "metadata": {},
   "outputs": [
    {
     "name": "stdout",
     "output_type": "stream",
     "text": [
      "5.52 µs ± 53.6 ns per loop (mean ± std. dev. of 7 runs, 100,000 loops each)\n"
     ]
    }
   ],
   "source": [
    "%%timeit\n",
    "m2 = median_better(array)"
   ]
  },
  {
   "cell_type": "code",
   "execution_count": 8,
   "metadata": {},
   "outputs": [
    {
     "name": "stdout",
     "output_type": "stream",
     "text": [
      "5.35 µs ± 39 ns per loop (mean ± std. dev. of 7 runs, 100,000 loops each)\n"
     ]
    }
   ],
   "source": [
    "%%timeit\n",
    "m3 = median_numpy(nparray)"
   ]
  },
  {
   "cell_type": "code",
   "execution_count": 9,
   "metadata": {},
   "outputs": [
    {
     "name": "stdout",
     "output_type": "stream",
     "text": [
      "Median Using naive approach : 41 \n",
      "Median using Better approach : 41 \n",
      "Median using numpy : 41.0\n"
     ]
    }
   ],
   "source": [
    "m1 = median_naive(array)\n",
    "m2 = median_better(array)\n",
    "m3 = median_numpy(nparray)\n",
    "print(f\"Median Using naive approach : {m1} \\nMedian using Better approach : {m2} \\nMedian using numpy : {m3}\") "
   ]
  },
  {
   "attachments": {},
   "cell_type": "markdown",
   "metadata": {},
   "source": [
    "We test all the three approaches over array with 100 elements. We can clearly see all the three approaches gave the same result. And np.median() comes out to be fastest of all."
   ]
  },
  {
   "attachments": {},
   "cell_type": "markdown",
   "metadata": {},
   "source": [
    "Question 4 :\n",
    "What is the gradient of the following function with respect to x and y?\n",
    "$$x^{2}y + y^{3}sin(x)$$"
   ]
  },
  {
   "attachments": {},
   "cell_type": "markdown",
   "metadata": {},
   "source": [
    "Answer :\n",
    "Given, \n",
    "$$f(x,y) = x^{2}y + y^{3}sin(x)$$\n",
    "\n",
    "We know gradient of a function is defined as,\n",
    "$$\\nabla f = \\frac{\\partial f}{\\partial x}\\hat{i} + \\frac{\\partial f}{\\partial y}\\hat{j} $$\n",
    "Now, we have,\n",
    "$$\\frac{\\partial f}{\\partial x} = 2xy + y^{3}cos(x)$$\n",
    "$$\\frac{\\partial f}{\\partial y} = x^{2} + 3y^{2}sin(x)$$\n",
    "Therefore,\n",
    "$$ \\nabla f= (2xy + y^{3}cos(x)) \\hat{i} + (x^{2} + 3y^{2}sin(x)) \\hat{j}$$\n"
   ]
  },
  {
   "attachments": {},
   "cell_type": "markdown",
   "metadata": {},
   "source": [
    "Question 5 :\n",
    "Use JAX to confirm the gradient evaluated by your method matches the analytical solution corresponding to a few random values of x and y."
   ]
  },
  {
   "attachments": {},
   "cell_type": "markdown",
   "metadata": {},
   "source": [
    "Answer :\\\n",
    "\\\n",
    "We compute JAX gradient using jax.grad() and then compare it against the actual gradient."
   ]
  },
  {
   "cell_type": "code",
   "execution_count": 10,
   "metadata": {},
   "outputs": [],
   "source": [
    "def function(x, y):\n",
    "    return (x**2) * y + (y**3) * jax.numpy.sin(x)\n",
    "\n",
    "def jax_grad(x_,y_):\n",
    "    return jax.grad(function, (0, 1))(float(x_),float(y_))\n",
    "\n",
    "def actual_grad(x,y):\n",
    "    return (2*(x)*y + (y**3)*math.cos(x),(x**2) + 3*(y**2)*math.sin(x))\n"
   ]
  },
  {
   "cell_type": "code",
   "execution_count": 11,
   "metadata": {},
   "outputs": [
    {
     "name": "stdout",
     "output_type": "stream",
     "text": [
      "Test Case 0 x = -3 y= -5 \n",
      "Actual gradient = (153.7490620750557,-1.5840006044900417) \n",
      "JAX gradient = (153.74905395507812,-1.584000587463379)\n",
      "\n",
      "Test Case 1 x = -6 y= -8 \n",
      "Actual gradient = (-395.6071867649874,89.64777565419377) \n",
      "JAX gradient = (-395.607177734375,89.64777374267578)\n",
      "\n",
      "Test Case 2 x = -3 y= -5 \n",
      "Actual gradient = (153.7490620750557,-1.5840006044900417) \n",
      "JAX gradient = (153.74905395507812,-1.584000587463379)\n",
      "\n",
      "Test Case 3 x = -9 y= 6 \n",
      "Actual gradient = (-304.8041365670902,36.49120359389029) \n",
      "JAX gradient = (-304.80413818359375,36.49120330810547)\n",
      "\n",
      "Test Case 4 x = 6 y= -2 \n",
      "Actual gradient = (-31.681362293202927,32.64701402161289) \n",
      "JAX gradient = (-31.68136215209961,32.64701461791992)\n",
      "\n"
     ]
    }
   ],
   "source": [
    "# Comparing\n",
    "\n",
    "for i in range(5):\n",
    "    x_ = np.random.randint(-10,10)\n",
    "    y_ = np.random.randint(-10,10)\n",
    "    j = jax_grad(x_,y_)\n",
    "    a = actual_grad(x_,y_)\n",
    "    print(f\"Test Case {i} x = {x_} y= {y_} \\nActual gradient = ({a[0]},{a[1]}) \\nJAX gradient = ({j[0]},{j[1]})\\n\")"
   ]
  },
  {
   "attachments": {},
   "cell_type": "markdown",
   "metadata": {},
   "source": [
    "We can see jax.grad() computes the gradient quite accurately for randomly picked values."
   ]
  },
  {
   "attachments": {},
   "cell_type": "markdown",
   "metadata": {},
   "source": [
    "Question 6 :\n",
    "Use sympy to confirm that you obtain the same gradient analytically."
   ]
  },
  {
   "attachments": {},
   "cell_type": "markdown",
   "metadata": {},
   "source": [
    "Answer : \\\n",
    "\\\n",
    "We use the CoordSys3D and gradient module of sympy to compute the gradient. It comes out that it matches the gradient we computed manually."
   ]
  },
  {
   "cell_type": "code",
   "execution_count": 12,
   "metadata": {},
   "outputs": [
    {
     "data": {
      "text/latex": [
       "$\\displaystyle \\left(2 \\mathbf{{x}_{R}} \\mathbf{{y}_{R}} + \\mathbf{{y}_{R}}^{3} \\cos{\\left(\\mathbf{{x}_{R}} \\right)}\\right)\\mathbf{\\hat{i}_{R}} + \\left(\\mathbf{{x}_{R}}^{2} + 3 \\mathbf{{y}_{R}}^{2} \\sin{\\left(\\mathbf{{x}_{R}} \\right)}\\right)\\mathbf{\\hat{j}_{R}}$"
      ],
      "text/plain": [
       "(2*R.x*R.y + R.y**3*cos(R.x))*R.i + (R.x**2 + 3*R.y**2*sin(R.x))*R.j"
      ]
     },
     "execution_count": 12,
     "metadata": {},
     "output_type": "execute_result"
    }
   ],
   "source": [
    "R = CoordSys3D('R')\n",
    "f = (R.x**2)*(R.y) + (R.y**3)*(sympy.sin(R.x))\n",
    "gradient(f)"
   ]
  },
  {
   "attachments": {},
   "cell_type": "markdown",
   "metadata": {},
   "source": [
    "Question 7:\n",
    "Create a Python nested dictionary to represent hierarchical information. We want to store record of students and their marks. Something like:\n",
    "\n",
    "1. 2022\n",
    "    1. Branch 1\n",
    "        1. Roll Number: 1, Name: N, Marks:\n",
    "            1. Maths: 100, English: 70 …\n",
    "    2. Branch 2\n",
    "2. 2023\n",
    "    1. Branch 1\n",
    "    2. Branch 2\n",
    "3. 2024\n",
    "    1. Branch 1\n",
    "    2. Branch 2\n",
    "4. 2025\n",
    "    1. Branch 1\n",
    "    2. Branch 2"
   ]
  },
  {
   "attachments": {},
   "cell_type": "markdown",
   "metadata": {},
   "source": [
    "Answer :"
   ]
  },
  {
   "attachments": {},
   "cell_type": "markdown",
   "metadata": {},
   "source": [
    "We know, Python dictionery is collection of objects where each has a key and a value. We use it to store the given data as following."
   ]
  },
  {
   "cell_type": "code",
   "execution_count": 13,
   "metadata": {},
   "outputs": [
    {
     "name": "stdout",
     "output_type": "stream",
     "text": [
      "{'2022': [{'Branch1': {'Roll Number: 1, Name: N, Marks:': {'English': 70,\n",
      "                                                           'Maths': 100}}},\n",
      "          'Branch2'],\n",
      " '2023': ['Branch1', 'Branch2'],\n",
      " '2024': ['Branch1', 'Branch2'],\n",
      " '2025': ['Branch1', 'Branch2']}\n"
     ]
    }
   ],
   "source": [
    "required_dictionery = {\"2022\":[{\"Branch1\":{\"Roll Number: 1, Name: N, Marks:\":{ \"Maths\": 100, \"English\": 70}}},\"Branch2\"],\"2023\":[\"Branch1\", \"Branch2\"],\"2024\": [\"Branch1\", \"Branch2\"],\"2025\":[\"Branch1\", \"Branch2\"]}\n",
    "pprint.PrettyPrinter().pprint(required_dictionery)"
   ]
  },
  {
   "attachments": {},
   "cell_type": "markdown",
   "metadata": {},
   "source": [
    "Question 8 :\n",
    "Store the same information using Python classes. We have an overall database which is a list of year objects. Each year contains a list of branches. Each branch contains a list of students. Each student has some properties like name, roll number and has marks in some subjects."
   ]
  },
  {
   "attachments": {},
   "cell_type": "markdown",
   "metadata": {},
   "source": [
    "Answer : \\\n",
    "\\\n",
    "Class can be used to create objects and define their properties. We use classes to represent the information as follows :"
   ]
  },
  {
   "cell_type": "code",
   "execution_count": 14,
   "metadata": {},
   "outputs": [
    {
     "name": "stdout",
     "output_type": "stream",
     "text": [
      "2022[\n",
      "\tBranch 1[\n",
      "\t\tRoll Number: 1, Name: N, Marks: \n",
      "\t\t\tMaths : 100, English : 70]\n",
      ", \n",
      "\tBranch 2[]\n",
      "]\n",
      "\n",
      "\n",
      "2023[\n",
      "\tBranch 1[]\n",
      ", \n",
      "\tBranch 2[]\n",
      "]\n",
      "\n",
      "\n",
      "2024[\n",
      "\tBranch 1[]\n",
      ", \n",
      "\tBranch 2[]\n",
      "]\n",
      "\n",
      "\n"
     ]
    }
   ],
   "source": [
    "class Marks:\n",
    "    def __init__(self, Maths, English):\n",
    "        self.Maths = Maths\n",
    "        self.English = English\n",
    "    def __repr__(self):\n",
    "        return f\"\\n\\t\\t\\tMaths : {self.Maths}, English : {self.English}\"\n",
    "\n",
    "class Student:\n",
    "    def __init__(self, roll_number, name, marks):\n",
    "        self.roll_number = roll_number\n",
    "        self.name = name\n",
    "        self.marks = marks\n",
    "\n",
    "    def __repr__(self):\n",
    "        return f\"\\n\\t\\tRoll Number: {self.roll_number}, Name: {self.name}, Marks: {self.marks}\"\n",
    "\n",
    "class Branch:\n",
    "    def __init__(self, name):\n",
    "        self.name = name\n",
    "        self.students = []\n",
    "\n",
    "    def add_student(self, student):\n",
    "        self.students.append(student)\n",
    "\n",
    "    def __repr__(self):\n",
    "        return f\"\\n\\tBranch {self.name}{self.students}\\n\"\n",
    "\n",
    "class Year:\n",
    "    def __init__(self, year):\n",
    "        self.year = year\n",
    "        self.branches = []\n",
    "\n",
    "    def add_branch(self, branch):\n",
    "        self.branches.append(branch)\n",
    "\n",
    "    def __repr__(self):\n",
    "        return f\"{self.year}{self.branches}\"\n",
    "    \n",
    "class Data:\n",
    "    def __init__(self):\n",
    "        self.years = []\n",
    "    \n",
    "    def add_year(self, year):\n",
    "        self.years.append(year)\n",
    "\n",
    "    def print_data(self):\n",
    "        for year in self.years:\n",
    "            print(year)\n",
    "            print(\"\\n\")\n",
    "    \n",
    "marks = Marks(100,70)\n",
    "student1 = Student(1, \"N\", marks)\n",
    "\n",
    "branch1 = Branch(1)\n",
    "branch1.add_student(student1)\n",
    "\n",
    "branch2 = Branch(2)\n",
    "\n",
    "year2022 = Year(2022)\n",
    "year2022.add_branch(branch1)\n",
    "year2022.add_branch(branch2)\n",
    "\n",
    "year2023 = Year(2023)\n",
    "year2023.add_branch(Branch(1))\n",
    "year2023.add_branch(Branch(2))\n",
    "\n",
    "year2024 = Year(2024)\n",
    "year2024.add_branch(Branch(1))\n",
    "year2024.add_branch(Branch(2))\n",
    "\n",
    "\n",
    "data = Data()\n",
    "data.add_year(year2022)\n",
    "data.add_year(year2023)\n",
    "data.add_year(year2024)\n",
    "\n",
    "data.print_data()"
   ]
  },
  {
   "attachments": {},
   "cell_type": "markdown",
   "metadata": {},
   "source": [
    "Question 9 :\n",
    "Using matplotlib plot the following functions on the domain : x = 0.5 to 100.0 in steps of  0.5\n",
    "$$1. y = x $$\n",
    "$$2. y = x^{2} $$\n",
    "$$3. y = \\frac{x^{3}}{100} $$\n",
    "$$4. y = sin(x) $$\n",
    "$$5. y = \\frac{sin(x)}{x} $$ \n",
    "$$6. y = log(x) $$\n",
    "$$7. y = e^{x} $$\n",
    " \n"
   ]
  },
  {
   "attachments": {},
   "cell_type": "markdown",
   "metadata": {},
   "source": [
    "Answer"
   ]
  },
  {
   "cell_type": "code",
   "execution_count": 15,
   "metadata": {},
   "outputs": [],
   "source": [
    "# Defining the functions\n",
    "\n",
    "def function_1(x):\n",
    "    return x\n",
    "\n",
    "def function_2(x):\n",
    "    return x**2\n",
    "\n",
    "def function_3(x):\n",
    "    return (x**3)/100\n",
    "\n",
    "def function_4(x):\n",
    "    return math.sin(x)\n",
    "\n",
    "def function_5(x):\n",
    "    return math.sin(x)/x\n",
    "\n",
    "def function_6(x):\n",
    "    return math.log10(x)\n",
    "\n",
    "def function_7(x):\n",
    "    return math.exp(x)"
   ]
  },
  {
   "cell_type": "code",
   "execution_count": 16,
   "metadata": {},
   "outputs": [
    {
     "data": {
      "image/png": "[encoded data removed]",
      "text/plain": [
       "<Figure size 640x480 with 7 Axes>"
      ]
     },
     "metadata": {},
     "output_type": "display_data"
    }
   ],
   "source": [
    "# Plotting\n",
    "functions = [function_1, function_2, function_3, function_4, function_5, function_6, function_7]\n",
    "\n",
    "x = np.arange(0.5, 100, 0.5)\n",
    "y = np.empty(len(x))\n",
    "\n",
    "j = 0\n",
    "\n",
    "def mod(j):\n",
    "    if j%3 != 0 :\n",
    "        return j%3\n",
    "    else: return 3\n",
    "\n",
    "plt.figure()\n",
    "for row in range(3):\n",
    "    for col in range(3):\n",
    "        if (row == 2 and (col == 1 or col == 2)):\n",
    "            continue\n",
    "        func_ = functions[3*row + col]\n",
    "        for i in range(len(x)):\n",
    "            y[i] = func_(x[i])\n",
    "        plt.subplot(3, 3, 3*row + col +1)\n",
    "        plt.plot(x, y)\n",
    "        plt.title(f\"Function {3*row + col+1}\")\n",
    "plt.tight_layout()\n",
    "plt.show()\n",
    "        \n",
    "    "
   ]
  },
  {
   "attachments": {},
   "cell_type": "markdown",
   "metadata": {},
   "source": [
    "Question 10 :\n",
    "Using numpy generate a matrix of size 20X5 containing random numbers drawn uniformly from the range of 1 to 2. Using Pandas create a dataframe out of this matrix. Name the columns of the dataframe as “a”, “b”, “c”, “d”, “e”. Find the column with the highest standard deviation. Find the row with the lowest mean."
   ]
  },
  {
   "attachments": {},
   "cell_type": "markdown",
   "metadata": {},
   "source": [
    "Answer : "
   ]
  },
  {
   "cell_type": "code",
   "execution_count": 17,
   "metadata": {},
   "outputs": [
    {
     "data": {
      "text/html": [
       "<div>\n",
       "<style scoped>\n",
       "    .dataframe tbody tr th:only-of-type {\n",
       "        vertical-align: middle;\n",
       "    }\n",
       "\n",
       "    .dataframe tbody tr th {\n",
       "        vertical-align: top;\n",
       "    }\n",
       "\n",
       "    .dataframe thead th {\n",
       "        text-align: right;\n",
       "    }\n",
       "</style>\n",
       "<table border=\"1\" class=\"dataframe\">\n",
       "  <thead>\n",
       "    <tr style=\"text-align: right;\">\n",
       "      <th></th>\n",
       "      <th>a</th>\n",
       "      <th>b</th>\n",
       "      <th>c</th>\n",
       "      <th>d</th>\n",
       "      <th>e</th>\n",
       "    </tr>\n",
       "  </thead>\n",
       "  <tbody>\n",
       "    <tr>\n",
       "      <th>0</th>\n",
       "      <td>1.270920</td>\n",
       "      <td>1.185352</td>\n",
       "      <td>1.728127</td>\n",
       "      <td>1.874760</td>\n",
       "      <td>1.278314</td>\n",
       "    </tr>\n",
       "    <tr>\n",
       "      <th>1</th>\n",
       "      <td>1.264836</td>\n",
       "      <td>1.571926</td>\n",
       "      <td>1.833903</td>\n",
       "      <td>1.160507</td>\n",
       "      <td>1.198396</td>\n",
       "    </tr>\n",
       "    <tr>\n",
       "      <th>2</th>\n",
       "      <td>1.540090</td>\n",
       "      <td>1.279758</td>\n",
       "      <td>1.869919</td>\n",
       "      <td>1.390403</td>\n",
       "      <td>1.770862</td>\n",
       "    </tr>\n",
       "    <tr>\n",
       "      <th>3</th>\n",
       "      <td>1.143071</td>\n",
       "      <td>1.007102</td>\n",
       "      <td>1.059974</td>\n",
       "      <td>1.383831</td>\n",
       "      <td>1.238100</td>\n",
       "    </tr>\n",
       "    <tr>\n",
       "      <th>4</th>\n",
       "      <td>1.495206</td>\n",
       "      <td>1.704057</td>\n",
       "      <td>1.261922</td>\n",
       "      <td>1.315142</td>\n",
       "      <td>1.832191</td>\n",
       "    </tr>\n",
       "  </tbody>\n",
       "</table>\n",
       "</div>"
      ],
      "text/plain": [
       "          a         b         c         d         e\n",
       "0  1.270920  1.185352  1.728127  1.874760  1.278314\n",
       "1  1.264836  1.571926  1.833903  1.160507  1.198396\n",
       "2  1.540090  1.279758  1.869919  1.390403  1.770862\n",
       "3  1.143071  1.007102  1.059974  1.383831  1.238100\n",
       "4  1.495206  1.704057  1.261922  1.315142  1.832191"
      ]
     },
     "execution_count": 17,
     "metadata": {},
     "output_type": "execute_result"
    }
   ],
   "source": [
    "# Building the DataFrame\n",
    "mat = np.random.uniform(1,2,size = (20,5))\n",
    "data_fram = pd.DataFrame(mat, columns = ['a','b','c','d','e'])\n",
    "data_fram.head(5)"
   ]
  },
  {
   "attachments": {},
   "cell_type": "markdown",
   "metadata": {},
   "source": [
    "Now, we find the requried column with highest sd and row with lowest mean using bruteforce as well as numpy."
   ]
  },
  {
   "cell_type": "code",
   "execution_count": 18,
   "metadata": {},
   "outputs": [
    {
     "name": "stdout",
     "output_type": "stream",
     "text": [
      "Column number:  1 \n",
      " Row number:  11\n",
      "\n",
      "Using numpy:\n",
      "Column number:  1 \n",
      " Row number:  11\n"
     ]
    }
   ],
   "source": [
    "col_number = 0\n",
    "highest_sd = np.std(mat[:, 0])\n",
    "\n",
    "for i in range(1, 5):\n",
    "    current_sd = np.std(mat[:, i])\n",
    "    if current_sd > highest_sd:\n",
    "        highest_sd = current_sd\n",
    "        col_number = i\n",
    "\n",
    "col_number_numpy = np.argmax(np.std(mat, axis=0))\n",
    "\n",
    "\n",
    "row_number = 0\n",
    "lowest_mean = np.mean(mat[0, :])\n",
    "\n",
    "for i in range(1, 20):\n",
    "    current_mean = np.mean(mat[i, :])\n",
    "    if current_mean < lowest_mean:\n",
    "        lowest_mean = current_mean\n",
    "        row_number = i\n",
    "\n",
    "\n",
    "row_number_numpy = np.argmin(np.mean(mat, axis=1))\n",
    "\n",
    "print(\"Column number: \", col_number, \"\\n\", \"Row number: \", row_number)\n",
    "print(\"\\nUsing numpy:\")\n",
    "print(\"Column number: \", col_number_numpy, \"\\n\", \"Row number: \", row_number_numpy)\n"
   ]
  },
  {
   "attachments": {},
   "cell_type": "markdown",
   "metadata": {},
   "source": [
    "Question 11 :\n",
    "Add a new column to the dataframe called “f” which is the sum of the columns “a”, “b”, “c”, “d”, “e”. Create another column called “g”. The value in the column “g” should be “LT8” if the value in the column “f” is less than 8 and “GT8” otherwise. Find the number of rows in the dataframe where the value in the column “g” is “LT8”. Find the standard deviation of the column “f” for the rows where the value in the column “g” is “LT8” and “GT8” respectively."
   ]
  },
  {
   "attachments": {},
   "cell_type": "markdown",
   "metadata": {},
   "source": [
    "Answer :"
   ]
  },
  {
   "attachments": {},
   "cell_type": "markdown",
   "metadata": {},
   "source": [
    "We first insert the required columns."
   ]
  },
  {
   "cell_type": "code",
   "execution_count": 19,
   "metadata": {},
   "outputs": [
    {
     "data": {
      "text/html": [
       "<div>\n",
       "<style scoped>\n",
       "    .dataframe tbody tr th:only-of-type {\n",
       "        vertical-align: middle;\n",
       "    }\n",
       "\n",
       "    .dataframe tbody tr th {\n",
       "        vertical-align: top;\n",
       "    }\n",
       "\n",
       "    .dataframe thead th {\n",
       "        text-align: right;\n",
       "    }\n",
       "</style>\n",
       "<table border=\"1\" class=\"dataframe\">\n",
       "  <thead>\n",
       "    <tr style=\"text-align: right;\">\n",
       "      <th></th>\n",
       "      <th>a</th>\n",
       "      <th>b</th>\n",
       "      <th>c</th>\n",
       "      <th>d</th>\n",
       "      <th>e</th>\n",
       "      <th>f</th>\n",
       "      <th>g</th>\n",
       "    </tr>\n",
       "  </thead>\n",
       "  <tbody>\n",
       "    <tr>\n",
       "      <th>0</th>\n",
       "      <td>1.270920</td>\n",
       "      <td>1.185352</td>\n",
       "      <td>1.728127</td>\n",
       "      <td>1.874760</td>\n",
       "      <td>1.278314</td>\n",
       "      <td>7.337473</td>\n",
       "      <td>LT8</td>\n",
       "    </tr>\n",
       "    <tr>\n",
       "      <th>1</th>\n",
       "      <td>1.264836</td>\n",
       "      <td>1.571926</td>\n",
       "      <td>1.833903</td>\n",
       "      <td>1.160507</td>\n",
       "      <td>1.198396</td>\n",
       "      <td>7.029568</td>\n",
       "      <td>LT8</td>\n",
       "    </tr>\n",
       "    <tr>\n",
       "      <th>2</th>\n",
       "      <td>1.540090</td>\n",
       "      <td>1.279758</td>\n",
       "      <td>1.869919</td>\n",
       "      <td>1.390403</td>\n",
       "      <td>1.770862</td>\n",
       "      <td>7.851031</td>\n",
       "      <td>LT8</td>\n",
       "    </tr>\n",
       "    <tr>\n",
       "      <th>3</th>\n",
       "      <td>1.143071</td>\n",
       "      <td>1.007102</td>\n",
       "      <td>1.059974</td>\n",
       "      <td>1.383831</td>\n",
       "      <td>1.238100</td>\n",
       "      <td>5.832077</td>\n",
       "      <td>LT8</td>\n",
       "    </tr>\n",
       "    <tr>\n",
       "      <th>4</th>\n",
       "      <td>1.495206</td>\n",
       "      <td>1.704057</td>\n",
       "      <td>1.261922</td>\n",
       "      <td>1.315142</td>\n",
       "      <td>1.832191</td>\n",
       "      <td>7.608519</td>\n",
       "      <td>LT8</td>\n",
       "    </tr>\n",
       "  </tbody>\n",
       "</table>\n",
       "</div>"
      ],
      "text/plain": [
       "          a         b         c         d         e         f    g\n",
       "0  1.270920  1.185352  1.728127  1.874760  1.278314  7.337473  LT8\n",
       "1  1.264836  1.571926  1.833903  1.160507  1.198396  7.029568  LT8\n",
       "2  1.540090  1.279758  1.869919  1.390403  1.770862  7.851031  LT8\n",
       "3  1.143071  1.007102  1.059974  1.383831  1.238100  5.832077  LT8\n",
       "4  1.495206  1.704057  1.261922  1.315142  1.832191  7.608519  LT8"
      ]
     },
     "execution_count": 19,
     "metadata": {},
     "output_type": "execute_result"
    }
   ],
   "source": [
    "data_fram['f'] = np.sum(mat, axis = 1)\n",
    "data_fram['g'] = np.empty(20)\n",
    "\n",
    "for i in range(20) :\n",
    "    if (data_fram['f'][i] < 8):\n",
    "        data_fram['g'][i] = 'LT8'\n",
    "    else :\n",
    "        data_fram['g'][i] = 'GT8'\n",
    "data_fram.head(5)"
   ]
  },
  {
   "attachments": {},
   "cell_type": "markdown",
   "metadata": {},
   "source": [
    "Now, finding the standard deviations."
   ]
  },
  {
   "cell_type": "code",
   "execution_count": 20,
   "metadata": {},
   "outputs": [
    {
     "name": "stdout",
     "output_type": "stream",
     "text": [
      "Standard Deviation of f for GTB rows : 0.024779531084705653\n",
      "\n",
      "Standard Deviation of f for LTB rows : 0.6425248593718538\n",
      "\n"
     ]
    }
   ],
   "source": [
    "print(f\"Standard Deviation of f for GTB rows : {np.std(data_fram.where(data_fram['f'] > 8)['f'])}\\n\")\n",
    "print(f\"Standard Deviation of f for LTB rows : {np.std(data_fram.where(data_fram['f'] <= 8)['f'])}\\n\")"
   ]
  },
  {
   "attachments": {},
   "cell_type": "markdown",
   "metadata": {},
   "source": [
    "Question 12 :\n",
    "Write a small piece of code to explain broadcasting in numpy."
   ]
  },
  {
   "attachments": {},
   "cell_type": "markdown",
   "metadata": {},
   "source": [
    "Answer : \n",
    "\n",
    "Broadcasting in Numpy :\n",
    "When we try to perform operations on two matrices with incompaible sizes, numpy tries to resolve the incompatibilty by broadcasting the matrices. In broacasting, certain part of matrices get repeated or transposed to match the compatible dimensions.\\\n",
    "As in below example, when we add 2 to the 3,3 matrix it gets added to all the entries in the matrix (get converted to a 3,3 matrix with all 2s)."
   ]
  },
  {
   "cell_type": "code",
   "execution_count": 21,
   "metadata": {},
   "outputs": [
    {
     "data": {
      "text/plain": [
       "matrix([[3, 3, 3],\n",
       "        [3, 3, 3],\n",
       "        [4, 4, 4]])"
      ]
     },
     "execution_count": 21,
     "metadata": {},
     "output_type": "execute_result"
    }
   ],
   "source": [
    "mat_1 = np.mat([[1,1,1,],[1,1,1],[2,2,2]])\n",
    "mat_1 + 2"
   ]
  },
  {
   "attachments": {},
   "cell_type": "markdown",
   "metadata": {},
   "source": [
    "Similarly, in this example mat_2 the row matrix gets converted to 3,3 matrix by repitition of the row."
   ]
  },
  {
   "cell_type": "code",
   "execution_count": 22,
   "metadata": {},
   "outputs": [
    {
     "data": {
      "text/plain": [
       "matrix([[3, 4, 5],\n",
       "        [3, 4, 5],\n",
       "        [3, 4, 5]])"
      ]
     },
     "execution_count": 22,
     "metadata": {},
     "output_type": "execute_result"
    }
   ],
   "source": [
    "mat_1 = np.mat([[1,2,3,],[1,2,3],[1,2,3]])\n",
    "mat_2 = np.mat([2,2,2])\n",
    "mat_1 + mat_2"
   ]
  },
  {
   "attachments": {},
   "cell_type": "markdown",
   "metadata": {},
   "source": [
    "This explains the broacasting."
   ]
  },
  {
   "attachments": {},
   "cell_type": "markdown",
   "metadata": {},
   "source": [
    "Question 13 :\n",
    "Write a function to compute the argmin of a numpy array. The function should take a numpy array as input and return the index of the minimum element. You can use the np.argmin function to verify your solution."
   ]
  },
  {
   "attachments": {},
   "cell_type": "markdown",
   "metadata": {},
   "source": [
    "Answer :\\\n",
    "\\\n",
    "We implement the argmin using the BruteForce approach and then verify with numpy."
   ]
  },
  {
   "cell_type": "code",
   "execution_count": 23,
   "metadata": {},
   "outputs": [
    {
     "name": "stdout",
     "output_type": "stream",
     "text": [
      "argmin of the array : 3 \n",
      "argmin of the array using numpy : 3\n"
     ]
    }
   ],
   "source": [
    "def compute_argmin(array):\n",
    "    min_index = 0\n",
    "    min_element = array[0]\n",
    "    for i in range(1,len(array)):\n",
    "        if (array[i] < min_element):\n",
    "            min_index = i\n",
    "            min_element = array[i]\n",
    "    return min_index\n",
    "\n",
    "arr = np.random.randn(50)\n",
    "argmin = compute_argmin(arr)\n",
    "argmin_numpy = np.argmin(arr)\n",
    "print(f\"argmin of the array : {argmin} \\nargmin of the array using numpy : {argmin_numpy}\")\n"
   ]
  },
  {
   "attachments": {},
   "cell_type": "markdown",
   "metadata": {},
   "source": [
    "We can see both give the same result."
   ]
  }
 ],
 "metadata": {
  "kernelspec": {
   "display_name": "Python 3",
   "language": "python",
   "name": "python3"
  },
  "language_info": {
   "codemirror_mode": {
    "name": "ipython",
    "version": 3
   },
   "file_extension": ".py",
   "mimetype": "text/x-python",
   "name": "python",
   "nbconvert_exporter": "python",
   "pygments_lexer": "ipython3",
   "version": "3.11.1"
  },
  "orig_nbformat": 4,
  "vscode": {
   "interpreter": {
    "hash": "aee8b7b246df8f9039afb4144a1f6fd8d2ca17a180786b69acc140d282b71a49"
   }
  }
 },
 "nbformat": 4,
 "nbformat_minor": 2
}
